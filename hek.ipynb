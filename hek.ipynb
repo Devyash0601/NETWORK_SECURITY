{
 "cells": [
  {
   "cell_type": "code",
   "execution_count": 1,
   "metadata": {},
   "outputs": [
    {
     "name": "stdout",
     "output_type": "stream",
     "text": [
      "MongoDB Connection Error: The DNS operation timed out after 20.00265669822693 seconds\n"
     ]
    }
   ],
   "source": [
    "import pymongo\n",
    "import os\n",
    "\n",
    "MONGO_DB_URL = os.getenv(\"MONGO_DB_URL\")\n",
    "\n",
    "try:\n",
    "    client = pymongo.MongoClient(MONGO_DB_URL, serverSelectionTimeoutMS=5000)\n",
    "    print(client.server_info())  # Test connection\n",
    "except Exception as e:\n",
    "    print(f\"MongoDB Connection Error: {e}\")"
   ]
  },
  {
   "cell_type": "code",
   "execution_count": null,
   "metadata": {},
   "outputs": [],
   "source": []
  }
 ],
 "metadata": {
  "kernelspec": {
   "display_name": "Python 3",
   "language": "python",
   "name": "python3"
  },
  "language_info": {
   "codemirror_mode": {
    "name": "ipython",
    "version": 3
   },
   "file_extension": ".py",
   "mimetype": "text/x-python",
   "name": "python",
   "nbconvert_exporter": "python",
   "pygments_lexer": "ipython3",
   "version": "3.10.16"
  }
 },
 "nbformat": 4,
 "nbformat_minor": 2
}
